{
  "nbformat": 4,
  "nbformat_minor": 0,
  "metadata": {
    "colab": {
      "provenance": []
    },
    "kernelspec": {
      "name": "python3",
      "display_name": "Python 3"
    },
    "language_info": {
      "name": "python"
    }
  },
  "cells": [
    {
      "cell_type": "markdown",
      "source": [
        "**📘 Python String Slicing Cheat Sheet**"
      ],
      "metadata": {
        "id": "ZgKjLQaXvHu9"
      }
    },
    {
      "cell_type": "code",
      "source": [
        "s = \"sayantani\"\n",
        "s"
      ],
      "metadata": {
        "colab": {
          "base_uri": "https://localhost:8080/",
          "height": 35
        },
        "id": "kLjY2Zj4vO7P",
        "outputId": "22f31d09-3c73-4062-de33-9820c42728c1"
      },
      "execution_count": 1,
      "outputs": [
        {
          "output_type": "execute_result",
          "data": {
            "text/plain": [
              "'sayantani'"
            ],
            "application/vnd.google.colaboratory.intrinsic+json": {
              "type": "string"
            }
          },
          "metadata": {},
          "execution_count": 1
        }
      ]
    },
    {
      "cell_type": "code",
      "source": [
        "# 🔹 Basic Slicing\n",
        "print(s[2:6])     # 'yant' — from index 2 to 5\n",
        "print(s[:4])      # 'saya' — from beginning to index 3\n",
        "print(s[5:])      # 'tani' — from index 5 to end\n",
        "print(s[::2])     # 'synti' — every 2nd character\n",
        "print(s[::-1])    # 'inatnayas' — reversed string"
      ],
      "metadata": {
        "colab": {
          "base_uri": "https://localhost:8080/"
        },
        "id": "yV49DjoKvXyw",
        "outputId": "fb974348-29ce-4a5c-e791-b4a7d5f914c6"
      },
      "execution_count": 2,
      "outputs": [
        {
          "output_type": "stream",
          "name": "stdout",
          "text": [
            "yant\n",
            "saya\n",
            "tani\n",
            "synai\n",
            "inatnayas\n"
          ]
        }
      ]
    },
    {
      "cell_type": "code",
      "source": [
        "# 🔹 Negative Indices\n",
        "print(s[-3:])     # 'ani' — last 3 characters\n",
        "print(s[:-3])     # 'sayant' — everything except last 3\n",
        "print(s[-5:-2])   # 'ant' — using negative slice range"
      ],
      "metadata": {
        "colab": {
          "base_uri": "https://localhost:8080/"
        },
        "id": "unbfJoQIveFv",
        "outputId": "9043582a-dc83-4f79-d00f-5846890d8243"
      },
      "execution_count": 3,
      "outputs": [
        {
          "output_type": "stream",
          "name": "stdout",
          "text": [
            "ani\n",
            "sayant\n",
            "nta\n"
          ]
        }
      ]
    },
    {
      "cell_type": "code",
      "source": [
        "# 🔹 Reversing\n",
        "print(s[::-1])         # Full reverse\n",
        "print(s[-1:-6:-1])     # Last 5 characters in reverse"
      ],
      "metadata": {
        "colab": {
          "base_uri": "https://localhost:8080/"
        },
        "id": "FtqVf-1MvjHg",
        "outputId": "4faf0c21-6eed-458c-e529-485fb57ac232"
      },
      "execution_count": 4,
      "outputs": [
        {
          "output_type": "stream",
          "name": "stdout",
          "text": [
            "inatnayas\n",
            "inatn\n"
          ]
        }
      ]
    },
    {
      "cell_type": "code",
      "source": [
        "# 🔹 Slicing with Step\n",
        "print(s[::3])     # 'stn' — every 3rd character\n",
        "print(s[1::2])    # 'aatn' — start at 1, every 2nd character"
      ],
      "metadata": {
        "colab": {
          "base_uri": "https://localhost:8080/"
        },
        "id": "GZBFWxVEvqru",
        "outputId": "c1130bd7-baa9-471e-f592-ddb12a07e14b"
      },
      "execution_count": 5,
      "outputs": [
        {
          "output_type": "stream",
          "name": "stdout",
          "text": [
            "saa\n",
            "aatn\n"
          ]
        }
      ]
    },
    {
      "cell_type": "code",
      "source": [
        "# 🔹 Copying a String\n",
        "copy = s[:]\n",
        "print(copy)       # Full copy of the string"
      ],
      "metadata": {
        "colab": {
          "base_uri": "https://localhost:8080/"
        },
        "id": "wLbFVJXAvynH",
        "outputId": "978efa09-c15a-4817-da75-19f96bf0df4c"
      },
      "execution_count": 6,
      "outputs": [
        {
          "output_type": "stream",
          "name": "stdout",
          "text": [
            "sayantani\n"
          ]
        }
      ]
    },
    {
      "cell_type": "code",
      "source": [
        "# 🔹 Skip & Reverse\n",
        "print(s[::-2])    # 'itaas' — reverse and skip every 2nd character"
      ],
      "metadata": {
        "colab": {
          "base_uri": "https://localhost:8080/"
        },
        "id": "7NWSt6dMv3SS",
        "outputId": "21df756f-b564-4071-881b-f3e08f262a7a"
      },
      "execution_count": 8,
      "outputs": [
        {
          "output_type": "stream",
          "name": "stdout",
          "text": [
            "ianys\n"
          ]
        }
      ]
    },
    {
      "cell_type": "code",
      "source": [
        "# 🔹 Multilevel Slicing\n",
        "part = s[1:8]      # 'ayantan'\n",
        "sub = part[::2]    # 'ynt'\n",
        "print(sub)"
      ],
      "metadata": {
        "colab": {
          "base_uri": "https://localhost:8080/"
        },
        "id": "FhosJ7q-v3Ni",
        "outputId": "76911244-2a36-4b24-f944-d7144ac8431a"
      },
      "execution_count": 9,
      "outputs": [
        {
          "output_type": "stream",
          "name": "stdout",
          "text": [
            "aatn\n"
          ]
        }
      ]
    },
    {
      "cell_type": "code",
      "source": [
        "# 🔹 Chunking a String\n",
        "\n",
        "def chunk_string(s, chunk_size):\n",
        "    return [s[i:i+chunk_size] for i in range(0, len(s), chunk_size)]\n",
        "\n",
        "print(chunk_string(\"sayantani\", 3))  # ['say', 'ant', 'ani']"
      ],
      "metadata": {
        "colab": {
          "base_uri": "https://localhost:8080/"
        },
        "id": "CdQhneJFv3I2",
        "outputId": "7495976a-4760-48ad-8f6e-a5ba45e3a687"
      },
      "execution_count": 10,
      "outputs": [
        {
          "output_type": "stream",
          "name": "stdout",
          "text": [
            "['say', 'ant', 'ani']\n"
          ]
        }
      ]
    },
    {
      "cell_type": "code",
      "source": [
        "# 🔹 Unicode & Emoji Slicing\n",
        "emoji = \"😀🐍💻🔥\"\n",
        "print(emoji[:2])       # '😀🐍'\n",
        "print(emoji[::-1])     # '🔥💻🐍😀'"
      ],
      "metadata": {
        "colab": {
          "base_uri": "https://localhost:8080/"
        },
        "id": "gAsGpBh7wJ48",
        "outputId": "e120d46a-7222-41e4-ed8a-30d9a747938c"
      },
      "execution_count": 11,
      "outputs": [
        {
          "output_type": "stream",
          "name": "stdout",
          "text": [
            "😀🐍\n",
            "🔥💻🐍😀\n"
          ]
        }
      ]
    },
    {
      "cell_type": "code",
      "source": [
        "# 🔹 Extract Every N-th Char from the End\n",
        "n = 3\n",
        "print(s[::-n])   # Every 3rd char from the end"
      ],
      "metadata": {
        "colab": {
          "base_uri": "https://localhost:8080/"
        },
        "id": "Wmi_Uye2wN3k",
        "outputId": "be78c487-e7de-4019-e156-93cfbeefbbc5"
      },
      "execution_count": 12,
      "outputs": [
        {
          "output_type": "stream",
          "name": "stdout",
          "text": [
            "ity\n"
          ]
        }
      ]
    },
    {
      "cell_type": "code",
      "source": [
        "# 🔹 Get Middle 3 Characters\n",
        "mid = len(s) // 2\n",
        "print(s[mid-1:mid+2])  # Middle 3 characters (if len >= 3)"
      ],
      "metadata": {
        "colab": {
          "base_uri": "https://localhost:8080/"
        },
        "id": "I4TW2tSJwTBZ",
        "outputId": "790493df-8b4e-4fbd-bfa5-3dcfcc1cd3c9"
      },
      "execution_count": 13,
      "outputs": [
        {
          "output_type": "stream",
          "name": "stdout",
          "text": [
            "ant\n"
          ]
        }
      ]
    },
    {
      "cell_type": "code",
      "source": [
        "# 🔹 Palindrome Check Using Slicing\n",
        "is_palindrome = s == s[::-1]\n",
        "print(\"Palindrome?\", is_palindrome)"
      ],
      "metadata": {
        "colab": {
          "base_uri": "https://localhost:8080/"
        },
        "id": "HrH8OY5uweuH",
        "outputId": "462eb029-7bae-47dc-e462-e97a79d544dc"
      },
      "execution_count": 14,
      "outputs": [
        {
          "output_type": "stream",
          "name": "stdout",
          "text": [
            "Palindrome? False\n"
          ]
        }
      ]
    },
    {
      "cell_type": "code",
      "source": [
        "# 🔹 Slicing Using slice() Object\n",
        "sl = slice(2, 7, 2)\n",
        "print(s[sl])  # Equivalent to s[2:7:2]"
      ],
      "metadata": {
        "colab": {
          "base_uri": "https://localhost:8080/"
        },
        "id": "-xtdXzSwwmyj",
        "outputId": "ea891b3c-e456-4b63-d2e9-a487c891baff"
      },
      "execution_count": 16,
      "outputs": [
        {
          "output_type": "stream",
          "name": "stdout",
          "text": [
            "yna\n"
          ]
        }
      ]
    },
    {
      "cell_type": "code",
      "source": [
        "# 🔹 Custom Slicing Function\n",
        "\n",
        "def smart_slice(string, start=None, stop=None, step=None):\n",
        "    return string[slice(start, stop, step)]\n",
        "\n",
        "print(smart_slice(s, 1, 9, 2))  # 'aatn'"
      ],
      "metadata": {
        "colab": {
          "base_uri": "https://localhost:8080/"
        },
        "id": "8yj9fiLbwz0b",
        "outputId": "29e55044-39b4-4168-a7b4-2b978d9af55d"
      },
      "execution_count": 17,
      "outputs": [
        {
          "output_type": "stream",
          "name": "stdout",
          "text": [
            "aatn\n"
          ]
        }
      ]
    },
    {
      "cell_type": "code",
      "source": [
        "# Zig-Zag Slicing (Even forward + Odd reversed)\n",
        "zigzag = s[::2] + s[1::2][::-1]\n",
        "print(\"Zig-Zag:\", zigzag)"
      ],
      "metadata": {
        "colab": {
          "base_uri": "https://localhost:8080/"
        },
        "id": "ktQ6EdAqw429",
        "outputId": "094f1a95-48b2-416d-efbb-63f320da9cf1"
      },
      "execution_count": 18,
      "outputs": [
        {
          "output_type": "stream",
          "name": "stdout",
          "text": [
            "Zig-Zag: synaintaa\n"
          ]
        }
      ]
    },
    {
      "cell_type": "code",
      "source": [
        "# Circular Slicing (Wrap around end)\n",
        "def circular_slice(s, start, length):\n",
        "    return (s * 2)[start:start+length]\n",
        "\n",
        "print(\"Circular Slice:\", circular_slice(s, 7, 5))"
      ],
      "metadata": {
        "colab": {
          "base_uri": "https://localhost:8080/"
        },
        "id": "kkda5l23w8Ak",
        "outputId": "1f011aea-174e-4192-f22b-ac9fbc519aa5"
      },
      "execution_count": 19,
      "outputs": [
        {
          "output_type": "stream",
          "name": "stdout",
          "text": [
            "Circular Slice: nisay\n"
          ]
        }
      ]
    },
    {
      "cell_type": "code",
      "source": [
        "# Slice Swap: Reverse 1st and 2nd Halves\n",
        "half = len(s) // 2\n",
        "swapped = s[half:][::-1] + s[:half][::-1]\n",
        "print(\"Half Swap Reversed:\", swapped)"
      ],
      "metadata": {
        "colab": {
          "base_uri": "https://localhost:8080/"
        },
        "id": "VjPPcXIfw_vM",
        "outputId": "afad8001-5343-48fb-d668-4bfd4bd4be6b"
      },
      "execution_count": 20,
      "outputs": [
        {
          "output_type": "stream",
          "name": "stdout",
          "text": [
            "Half Swap Reversed: inatnayas\n"
          ]
        }
      ]
    },
    {
      "cell_type": "code",
      "source": [
        "# Selective Vowel Extraction\n",
        "vowels = ''.join([s[i] for i in range(len(s)) if s[i] in 'aeiou'])\n",
        "print(\"Vowels only:\", vowels)"
      ],
      "metadata": {
        "colab": {
          "base_uri": "https://localhost:8080/"
        },
        "id": "d2iPXJIKxEgj",
        "outputId": "c9f059f5-d19b-4c5f-9616-c5f49e7bcc95"
      },
      "execution_count": 21,
      "outputs": [
        {
          "output_type": "stream",
          "name": "stdout",
          "text": [
            "Vowels only: aaai\n"
          ]
        }
      ]
    },
    {
      "cell_type": "code",
      "source": [
        "# Every 2nd Character From Middle Outwards\n",
        "mid = len(s) // 2\n",
        "left = s[:mid][::-2]\n",
        "right = s[mid:][::2]\n",
        "print(\"Middle-Out:\", left + right)"
      ],
      "metadata": {
        "colab": {
          "base_uri": "https://localhost:8080/"
        },
        "id": "8Ga-HVRTxHt-",
        "outputId": "0f3613db-5c1a-4e6d-ce18-ce9ecf41e439"
      },
      "execution_count": 22,
      "outputs": [
        {
          "output_type": "stream",
          "name": "stdout",
          "text": [
            "Middle-Out: aanai\n"
          ]
        }
      ]
    },
    {
      "cell_type": "code",
      "source": [
        "# Double-Reverse Sandwich\n",
        "start = s[:3][::-1]\n",
        "middle = s[3:-3]\n",
        "end = s[-3:][::-1]\n",
        "print(\"Sandwich:\", start + middle + end)"
      ],
      "metadata": {
        "colab": {
          "base_uri": "https://localhost:8080/"
        },
        "id": "mZOOjxnAxM8_",
        "outputId": "54d91fed-1c00-4c69-9c6e-0f1d7733c44b"
      },
      "execution_count": 23,
      "outputs": [
        {
          "output_type": "stream",
          "name": "stdout",
          "text": [
            "Sandwich: yasantina\n"
          ]
        }
      ]
    },
    {
      "cell_type": "code",
      "execution_count": 24,
      "metadata": {
        "colab": {
          "base_uri": "https://localhost:8080/"
        },
        "id": "uBtejXshtVAU",
        "outputId": "97d469c6-8f33-4d9e-e0ee-9c67c46e4ca6"
      },
      "outputs": [
        {
          "output_type": "stream",
          "name": "stdout",
          "text": [
            "Shifted Left: yantanisa\n"
          ]
        }
      ],
      "source": [
        "# Shift and Slice\n",
        "shift = 2\n",
        "shifted = s[shift:] + s[:shift]\n",
        "print(\"Shifted Left:\", shifted)\n"
      ]
    }
  ]
}